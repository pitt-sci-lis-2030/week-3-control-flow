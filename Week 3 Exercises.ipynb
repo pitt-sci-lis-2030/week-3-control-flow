{
 "cells": [
  {
   "cell_type": "markdown",
   "metadata": {},
   "source": [
    "## Week 3 Exercises"
   ]
  },
  {
   "cell_type": "markdown",
   "metadata": {},
   "source": [
    "You have six exercises this week covering different elements of the lecture and readings.\n",
    "\n",
    "1. Operators\n",
    "2. Boolean expression\n",
    "3. Conditional statements\n",
    "4. Exceptions\n",
    "5. Functions"
   ]
  },
  {
   "cell_type": "markdown",
   "metadata": {},
   "source": [
    "### Operators"
   ]
  },
  {
   "cell_type": "markdown",
   "metadata": {},
   "source": [
    "**Q1**: Write a program that calculates someone's pay. \n",
    "\n",
    "* First caluclate the gross pay.  Use 35 hours and a rate of 15.75 per hour to test the program (the pay should be 551.25). \n",
    "* Next calcualte the take home pay.  Assume a tax rate of 15%\n",
    "\n"
   ]
  },
  {
   "cell_type": "code",
   "execution_count": null,
   "metadata": {},
   "outputs": [],
   "source": []
  },
  {
   "cell_type": "markdown",
   "metadata": {},
   "source": [
    "### Boolean expression & Conditional statements"
   ]
  },
  {
   "cell_type": "markdown",
   "metadata": {},
   "source": [
    "**Q2**: Considering the following program:"
   ]
  },
  {
   "cell_type": "code",
   "execution_count": null,
   "metadata": {},
   "outputs": [],
   "source": [
    "x = 30\n",
    "if x < 30 :\n",
    "    x = 20\n",
    "    x += 5\n",
    "print (x)"
   ]
  },
  {
   "cell_type": "code",
   "execution_count": null,
   "metadata": {},
   "outputs": [],
   "source": []
  },
  {
   "cell_type": "markdown",
   "metadata": {},
   "source": [
    "**2.1** Explain how the program evalauted to the result.  Walk through each line of code and explain what is happening from a computational thinking perspective. \n"
   ]
  },
  {
   "cell_type": "markdown",
   "metadata": {},
   "source": []
  },
  {
   "cell_type": "markdown",
   "metadata": {},
   "source": [
    "**2.2** It possible to get the result 35 by changing the indentation of a single line.  Which like should change it's indentation?  How did this change the computation as described above?"
   ]
  },
  {
   "cell_type": "markdown",
   "metadata": {},
   "source": []
  },
  {
   "cell_type": "markdown",
   "metadata": {},
   "source": [
    "**Q3**: Consider the following code: "
   ]
  },
  {
   "cell_type": "code",
   "execution_count": null,
   "metadata": {},
   "outputs": [],
   "source": [
    "myAge = 40\n",
    "medicalWorker = False\n",
    "\n",
    "if (myAge [comparison operator] 65  [boolean operator] medicalWorker) :\n",
    "    print(\"you can get the vacine!\")\n",
    "else :\n",
    "    print(\"nope\")\n"
   ]
  },
  {
   "cell_type": "markdown",
   "metadata": {},
   "source": [
    "Modify the above code by replacing the text in square brackets [] with a comparison and boolean operator to allow for the program to function correctly.  Specifcially it will say \"you can get the vacine\" if the input indicates the person is old enough (65+) or is a health worker to qualify for the vacine."
   ]
  },
  {
   "cell_type": "markdown",
   "metadata": {},
   "source": [
    "### Functions"
   ]
  },
  {
   "cell_type": "markdown",
   "metadata": {},
   "source": [
    "***Q4:*** The following method is used to computer travel time given a speed and distance.   Use this method to computer travel time for the following situations:\n",
    "\n",
    "* A walking trip of 10 miles, traveling at 8 m.p.h.\n",
    "* A bike trip of 5 miles, traveling at 15 m.p.h.\n",
    "* A car trip of 1000 miles, traveling at 75 m.p.h. (yeah, don't tell ;-))\n",
    "\n",
    "Recall the function returns a value of type int.  This should help you pretty up the output with some print statements."
   ]
  },
  {
   "cell_type": "code",
   "execution_count": null,
   "metadata": {},
   "outputs": [],
   "source": [
    "def tripTime(length, speed) :\n",
    "    hours = length / speed\n",
    "    minutes = hours * 60\n",
    "    return int(minutes)"
   ]
  },
  {
   "cell_type": "code",
   "execution_count": null,
   "metadata": {},
   "outputs": [],
   "source": []
  },
  {
   "cell_type": "markdown",
   "metadata": {},
   "source": [
    "**Q5** Write your own function call stringFun that:\n",
    "* Takes in a single parameter and returns no value\n",
    "* Calculates the length of the parameter string (hint: remember the len() function in lecture)\n",
    "* If the length greater than 10 characters, print the letter in the string that is furthest into the alphabet (hint: remember max() from lecture)\n",
    "* If the legth is greater than 15 characters, print the letter in the string that is closest to the front of the alphabet (hint: remember min() from lecture)\n",
    "\n",
    "** Pay careful attention to the instructions... ask yourself, what should happen with a string with 2 chracters? How about 12 characters?  How about 22 chracters? **\n",
    "\n",
    "Call your function to test with these values!!\n",
    "\n"
   ]
  },
  {
   "cell_type": "code",
   "execution_count": null,
   "metadata": {},
   "outputs": [],
   "source": []
  }
 ],
 "metadata": {
  "kernelspec": {
   "display_name": "Python 3",
   "language": "python",
   "name": "python3"
  },
  "language_info": {
   "codemirror_mode": {
    "name": "ipython",
    "version": 3
   },
   "file_extension": ".py",
   "mimetype": "text/x-python",
   "name": "python",
   "nbconvert_exporter": "python",
   "pygments_lexer": "ipython3",
   "version": "3.8.5"
  }
 },
 "nbformat": 4,
 "nbformat_minor": 4
}
