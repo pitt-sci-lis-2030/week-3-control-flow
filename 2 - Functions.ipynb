{
 "cells": [
  {
   "cell_type": "markdown",
   "metadata": {},
   "source": [
    "# Functions\n",
    "\n",
    "Surprise!  We've already seen functions! Once you know what to look for you will start seeing functions everywhere in Python code. Some of the functions we have encountered already are the `print()` and `type()` functions that allow us to display text and inspect the data type of values."
   ]
  },
  {
   "cell_type": "code",
   "execution_count": null,
   "metadata": {},
   "outputs": [],
   "source": [
    "# print the word hello\n",
    "print(\"hello\")"
   ]
  },
  {
   "cell_type": "code",
   "execution_count": null,
   "metadata": {},
   "outputs": [],
   "source": [
    "# check to see the data type of the string \"hello\"\n",
    "type(\"hello\")"
   ]
  },
  {
   "cell_type": "markdown",
   "metadata": {},
   "source": [
    "In this notebook you will learn:\n",
    "\n",
    "* What is a function\n",
    "* How to use functions\n",
    "* How to define your own custom functions\n",
    "* Adding new functions by Importing Modules"
   ]
  },
  {
   "cell_type": "markdown",
   "metadata": {},
   "source": [
    "## So what is a function?\n",
    "\n",
    "* A function is a bunch of code that is bundled together and re-used in other code.\n",
    "* A function is defined in code, given a name, and is \"run\" when the function function name is *called*.\n",
    "* A function can be called from other code, allowing for non-sequential order of operations and re-use of operations. \n",
    "\n",
    "### Why functions?\n",
    "\n",
    "* Creating a new function gives you an opportunity to name a group of statements, which makes your program easier to read, understand, and debug. \n",
    "* Functions can make a program smaller by eliminating repetitive code. Later, if you make a change, you only have to make it in one place.\n",
    "* Dividing a long program into functions allows you to debug the parts one at a time and then assemble them into a working whole.\n",
    "* Well-designed functions are often useful for many programs. Once you write and debug one, you can reuse it.\n",
    "\n",
    "Excerpt From: Charles R Severance. [Chapter 4: Functions](https://www.py4e.com/html3/04-functions) in *Python for Everybody.*\n"
   ]
  },
  {
   "cell_type": "markdown",
   "metadata": {},
   "source": [
    "There are a lot of different [*built-in functions*](https://docs.python.org/3/library/functions.html) that are always available when writing Python code.  Many are very simple, for instance the functions below allow us to get the maximum and minimum character of a string.  By maximum, we mean the letter furthest into the Roman alphabet. "
   ]
  },
  {
   "cell_type": "code",
   "execution_count": null,
   "metadata": {},
   "outputs": [],
   "source": [
    "# call the built-in max function \n",
    "max(\"hello\")"
   ]
  },
  {
   "cell_type": "code",
   "execution_count": null,
   "metadata": {},
   "outputs": [],
   "source": [
    "# call the built-in min function \n",
    "min(\"hello\")"
   ]
  },
  {
   "cell_type": "code",
   "execution_count": null,
   "metadata": {},
   "outputs": [],
   "source": [
    "# call the built-in len function to get the length of the string\n",
    "len(\"hello\")"
   ]
  },
  {
   "cell_type": "markdown",
   "metadata": {},
   "source": [
    "### Let's cover some concepts and vocabulary\n",
    "\n",
    "Before getting started, let's cover the ways we talk about a function.  There are some important key terms:\n",
    "\n",
    "* **Function name** - this is the name assigned to the function and use to \"run\" that block of code we put in our function. We want to be very careful about the words we use. These are words like \"print\" and \"type\" we've seen above. Pick function names that make sense and that are easy to recall.\n",
    "\n",
    "* **Arguments** - these are the values or variables that a function accepts. When calling a function, arguments are \"passed\" by naming them inside the parentheses, `()`, after the function name.  Above the string value, \"hello\" is the single argument passed to the functions. Functions can pass more than one argument when they are separated by comma, `,`.\n",
    "\n",
    "* **Return value** - All functions \"do some work\" by taking some input (argument) and producing an output called the return value. Note, some functions will take an input but don't return anything.  Print is an example of a function that does not return a new value.  We call these functions \"void\" functions, meaning their return type is void.  The other functions above have return values.  Type returns a variable type; max and min return a single character string; `len` returns an int."
   ]
  },
  {
   "cell_type": "markdown",
   "metadata": {},
   "source": [
    "## Using Functions\n",
    "\n",
    "When we want to execute the code of a function we *call* it with the name of the function followed by parentheses."
   ]
  },
  {
   "cell_type": "code",
   "execution_count": null,
   "metadata": {},
   "outputs": [],
   "source": [
    "# calling the print function with no arguments\n",
    "print()"
   ]
  },
  {
   "cell_type": "markdown",
   "metadata": {},
   "source": [
    "Notice how nothing really happened, that is because we didn't tell the print function what we wanted to print. Anything we put inside the parentheses are the *arguments* to the function and the print function will simply print them out below the code cell."
   ]
  },
  {
   "cell_type": "code",
   "execution_count": null,
   "metadata": {},
   "outputs": [],
   "source": [
    "print(\"Happy Happy Wednesday!\")"
   ]
  },
  {
   "cell_type": "markdown",
   "metadata": {},
   "source": [
    "Functions can also *return values*, that is produce some output based upon the input. For example, the built-in `len()` function will return the lenth of whatever you put in its arguments."
   ]
  },
  {
   "cell_type": "code",
   "execution_count": null,
   "metadata": {},
   "outputs": [],
   "source": [
    "len(\"Matt\")"
   ]
  },
  {
   "cell_type": "markdown",
   "metadata": {},
   "source": [
    "Usually, when a function returns a value you want to assign it to a variable so that you can use that value in your computations. "
   ]
  },
  {
   "cell_type": "code",
   "execution_count": null,
   "metadata": {},
   "outputs": [],
   "source": [
    "# Create a variable of a string\n",
    "myName = \"Matt\"\n",
    "# use the len function to compute the length of the value and save as a variable\n",
    "numberOfLettersInMyName = len(myName)\n",
    "# explicitly print the value of the string length variable\n",
    "print(numberOfLettersInMyName)"
   ]
  },
  {
   "cell_type": "code",
   "execution_count": null,
   "metadata": {},
   "outputs": [],
   "source": [
    "# careful when naming variables after the built-in functions\n",
    "print = \"Don't print too much, it wastes paper!\""
   ]
  },
  {
   "cell_type": "code",
   "execution_count": null,
   "metadata": {},
   "outputs": [],
   "source": [
    "print(\"I dont' care about trees!!!\")"
   ]
  },
  {
   "cell_type": "markdown",
   "metadata": {},
   "source": [
    "Ack! what happend!? When we assigned a string to the name `print` we overwrote the function that was named `print` and replaced it with a string. Strings are not functions and so can't be executed, \"called,\" with parentheses.\n",
    "\n",
    "If this happens to you, don't fear, it is not permanent. In Jupyter, just go to the Kernel menu and select \"Restart Kernel.\" This will reset your Python environment (note, all the previous variables will be gone so you will need to re-run your code)."
   ]
  },
  {
   "cell_type": "markdown",
   "metadata": {},
   "source": [
    "### O Functions, Where art thou?\n",
    "\n",
    "Much of the functionality of the Python programming language is accessed by calling functions. Functions \n",
    "\n",
    "* [Built-in functions](https://docs.python.org/3/library/functions.html) - These is a small number of functions that are already available to you. Make a note of these functions because it is generally a bad idea to use their names when you create variables (you will overwrite the function!). \n",
    "* From the [Python Standard library](https://docs.python.org/3/library/index.html) - The Python Standard Library provides a collection of functions that enable you to write more advanced programs. We will discuss how to use them later in this lecture.\n",
    "* From [3rd-party packages](https://pypi.org) - Packages provide additional functionality, i.e. functions, that are created by other people. There are so many packages you can never memorize them all, but we will highlight a few in this course.\n",
    "* Defining your own functions!"
   ]
  },
  {
   "cell_type": "markdown",
   "metadata": {},
   "source": [
    "## We can  define our own functions!\n",
    "\n",
    "Like with conditionals, we use some special keywords and some indentation in our syntax to \"define\" a function.\n",
    "\n",
    "The `def` keyword followed by a name is basically an assignment operator for assigning a name to a function. The parentheses after the name define or assign the variable names for the *parameters* of the function. These are the names that the arguments will be assigned when you call the function. The body of the function lives in the indented block of code and is the stuff that will be executed when you call the function in later code."
   ]
  },
  {
   "cell_type": "code",
   "execution_count": null,
   "metadata": {},
   "outputs": [],
   "source": [
    "def printMyNameTag(name):\n",
    "    nameTag = \"Hello, my name is: \" + name\n",
    "    print(nameTag)"
   ]
  },
  {
   "cell_type": "markdown",
   "metadata": {},
   "source": [
    "Notice \"running\" that code doesn't produce a result.  That's becuase we have not actually \"run\" the code, we just \"defined\" the function.  "
   ]
  },
  {
   "cell_type": "code",
   "execution_count": null,
   "metadata": {},
   "outputs": [],
   "source": [
    "printMyNameTag(\"Jake\")"
   ]
  },
  {
   "cell_type": "code",
   "execution_count": null,
   "metadata": {},
   "outputs": [],
   "source": [
    "printMyNameTag(\"Matt\")"
   ]
  },
  {
   "cell_type": "markdown",
   "metadata": {},
   "source": [
    "Notice how we can change the argument to the function and the variables inside the function (the parameters) are changed. This is the power of functions!\n",
    "\n",
    "There is an important point to be made here -- when defining a function we are not going to get errors unless they are syntax errors.  For instance, if we change variable name to a non-existent variable name, it will NOT generate an error. "
   ]
  },
  {
   "cell_type": "code",
   "execution_count": null,
   "metadata": {},
   "outputs": [],
   "source": [
    "def printMyNameTag(name):\n",
    "    nameTag = \"Hello, my name is: \" + noName\n",
    "    print(nameTag)"
   ]
  },
  {
   "cell_type": "markdown",
   "metadata": {},
   "source": [
    "But, we will get the error when we try to run the function because we didn't define the variable called within the function block."
   ]
  },
  {
   "cell_type": "code",
   "execution_count": null,
   "metadata": {},
   "outputs": [],
   "source": [
    "printMyNameTag(\"Jake\")"
   ]
  },
  {
   "cell_type": "markdown",
   "metadata": {},
   "source": [
    "### Returning a value\n",
    "\n",
    "We can use the `return` keyword followed by an expression to tell Python what value we want to send back or output to the code that called the function. If the function is processing some data or computing a value, we would want to return it otherwise those values will disappear if we don't return them."
   ]
  },
  {
   "cell_type": "code",
   "execution_count": null,
   "metadata": {},
   "outputs": [],
   "source": [
    "def createNameTag(name):\n",
    "    nameTag = \"Hello my name is: \" + name\n",
    "    return nameTag"
   ]
  },
  {
   "cell_type": "code",
   "execution_count": null,
   "metadata": {},
   "outputs": [],
   "source": [
    "jakeNameTag = createNameTag(\"Jake\")\n",
    "print(jakeNameTag)"
   ]
  },
  {
   "cell_type": "markdown",
   "metadata": {},
   "source": [
    "### Functions calling other functions\n",
    "\n",
    "The real power of functions is that they can play nice with each other.  They can reduce repetitive code and allow for abstracting away the details to make the code cleaner, easier to manage, and easier for others to understand."
   ]
  },
  {
   "cell_type": "code",
   "execution_count": null,
   "metadata": {},
   "outputs": [],
   "source": [
    "def printNameTags() :\n",
    "    print(createNameTag(\"Jake\"))\n",
    "    print(createNameTag(\"Matt\"))\n",
    "\n",
    "printNameTags()\n"
   ]
  },
  {
   "cell_type": "code",
   "execution_count": null,
   "metadata": {},
   "outputs": [],
   "source": [
    "def printNameTags(nameOne, nameTwo) :\n",
    "    print(createNameTag(nameOne))\n",
    "    print(createNameTag(nameTwo))\n",
    "\n",
    "printNameTags(\"Jake\", \"Matt\")"
   ]
  },
  {
   "cell_type": "markdown",
   "metadata": {},
   "source": [
    "There is power in the Python syntax to write very flexible functions.  For instance, we can use a * in the parameters to indicate an undefine number of parameters passed.  Combined with iteration inside the function (a little preview for next week), our printNameTags function can print as many names as we give it."
   ]
  },
  {
   "cell_type": "code",
   "execution_count": null,
   "metadata": {},
   "outputs": [],
   "source": [
    "def printNameTags(*names) :\n",
    "    for name in names :\n",
    "        print(createNameTag(name))\n",
    "\n",
    "printNameTags(\"Jake\", \"Matt\")"
   ]
  },
  {
   "cell_type": "code",
   "execution_count": null,
   "metadata": {},
   "outputs": [],
   "source": [
    "printNameTags(\"What?\", \"Who?\", \"Chika-chika Slim Shady\")"
   ]
  },
  {
   "cell_type": "markdown",
   "metadata": {},
   "source": [
    "![SLim Shady](https://media0.giphy.com/media/ZjYZnXeOYPHH2/giphy.gif?cid=ecf05e478y3xhx32j4zqq7qqwfe77dz6hk78ctvou5xgbtsl&rid=giphy.gif)"
   ]
  },
  {
   "cell_type": "markdown",
   "metadata": {},
   "source": [
    "## Modules (import and libraries)\n",
    "Recall one of the reasons we chose Python to learn is because the library support is extensive. Many of the libraries contain modules (akin to the books in a real library).  The book can contain functions and other statements specific to supporting a specific type of computation.  One of the most common modules is the math module."
   ]
  },
  {
   "cell_type": "code",
   "execution_count": null,
   "metadata": {},
   "outputs": [],
   "source": [
    "# use the import statement to load math function\n",
    "import math"
   ]
  },
  {
   "cell_type": "code",
   "execution_count": null,
   "metadata": {},
   "outputs": [],
   "source": [
    "# inspect the type of math\n",
    "type(math)"
   ]
  },
  {
   "cell_type": "markdown",
   "metadata": {},
   "source": [
    "Modules contain functions.  If we know there names, we can ask Python to tell us how to use them.  If we don't know their names, we can ask for help on the module itself."
   ]
  },
  {
   "cell_type": "code",
   "execution_count": null,
   "metadata": {},
   "outputs": [],
   "source": [
    "help(math)"
   ]
  },
  {
   "cell_type": "markdown",
   "metadata": {},
   "source": [
    "OMG! Look at all that math! We can get help for specific functions in the math module using a period and then the name of the function."
   ]
  },
  {
   "cell_type": "code",
   "execution_count": null,
   "metadata": {},
   "outputs": [],
   "source": [
    "help(math.factorial)"
   ]
  },
  {
   "cell_type": "markdown",
   "metadata": {},
   "source": [
    "We can also use that same dot notation to call functions from the math module."
   ]
  },
  {
   "cell_type": "code",
   "execution_count": null,
   "metadata": {},
   "outputs": [],
   "source": [
    "# call the factorial function from the math module with the argument 5 \n",
    "math.factorial(5)"
   ]
  },
  {
   "cell_type": "code",
   "execution_count": null,
   "metadata": {},
   "outputs": [],
   "source": [
    "# call the square root function from the math module with the argume 81\n",
    "math.sqrt(81)"
   ]
  },
  {
   "cell_type": "markdown",
   "metadata": {},
   "source": [
    "When we import a module we can access all of the functions by using this dot notation.\n",
    "\n",
    "`<modulename>.<functionname>(<arguments>)`\n",
    "\n",
    "One really powerful module is the calendar module.  It makes working with and manipulating dates very efficent."
   ]
  },
  {
   "cell_type": "code",
   "execution_count": null,
   "metadata": {},
   "outputs": [],
   "source": [
    "# import the calendar module\n",
    "import calendar"
   ]
  },
  {
   "cell_type": "code",
   "execution_count": null,
   "metadata": {},
   "outputs": [],
   "source": [
    "# use the isleap function to see if 2022 is a leap year\n",
    "calendar.isleap(2022)"
   ]
  },
  {
   "cell_type": "code",
   "execution_count": null,
   "metadata": {},
   "outputs": [],
   "source": [
    "# us the prmonth\n",
    "calendar.prmonth(2021,1)"
   ]
  },
  {
   "cell_type": "markdown",
   "metadata": {},
   "source": [
    "We can learn more about the [calendar module by reading its documentation](https://docs.python.org/3/library/calendar.html). Specifically, the `prmonth` function will [print a calendar for a specific month in year](https://docs.python.org/3/library/calendar.html#calendar.TextCalendar.prmonth)\n",
    "\n",
    "Another really helpful module is [datetime](https://docs.python.org/3/library/datetime.html), which provides functions and data types for working with dates and time."
   ]
  },
  {
   "cell_type": "code",
   "execution_count": null,
   "metadata": {},
   "outputs": [],
   "source": [
    "# load the datetime module into memory\n",
    "import datetime"
   ]
  },
  {
   "cell_type": "code",
   "execution_count": null,
   "metadata": {},
   "outputs": [],
   "source": [
    "# create a variable for the beginning of a class\n",
    "classStartTime = datetime.datetime(2021,2,3,12,10,0)\n",
    "\n",
    "# create a variable for the end of class\n",
    "classEndTime = datetime.datetime(2021,2,3,15,0,0)\n",
    "\n",
    "# compute the length of the class period by subtracting the two datetimes.\n",
    "lengthOfClass = classEndTime - classStartTime\n",
    "print(lengthOfClass)"
   ]
  },
  {
   "cell_type": "code",
   "execution_count": null,
   "metadata": {},
   "outputs": [],
   "source": [
    "# create a variable representing the nmber of classes\n",
    "numberOfClasses = 15\n",
    "\n",
    "# calculate the time spent together \n",
    "timeSpentTogether = lengthOfClass * numberOfClasses\n",
    "print(timeSpentTogether)"
   ]
  },
  {
   "cell_type": "code",
   "execution_count": null,
   "metadata": {},
   "outputs": [],
   "source": [
    "# what type of thing is the variable timeSpentTogether\n",
    "type(timeSpentTogether)"
   ]
  },
  {
   "cell_type": "markdown",
   "metadata": {},
   "source": [
    "Lets' see what our options are for working with timedelta: https://docs.python.org/2/library/datetime.html#datetime.timedelta"
   ]
  },
  {
   "cell_type": "code",
   "execution_count": null,
   "metadata": {},
   "outputs": [],
   "source": [
    "help(datetime.timedelta)"
   ]
  },
  {
   "cell_type": "code",
   "execution_count": null,
   "metadata": {},
   "outputs": [],
   "source": [
    "# how many days\n",
    "timeSpentTogether.days"
   ]
  },
  {
   "cell_type": "code",
   "execution_count": null,
   "metadata": {},
   "outputs": [],
   "source": [
    "# how many seconds\n",
    "timeSpentTogether.seconds"
   ]
  },
  {
   "cell_type": "code",
   "execution_count": null,
   "metadata": {},
   "outputs": [],
   "source": [
    "# compute hours by dividing into minutes and then hours\n",
    "timeSpentTogether.seconds / 60 / 60"
   ]
  },
  {
   "cell_type": "code",
   "execution_count": null,
   "metadata": {},
   "outputs": [],
   "source": [
    "# calculate the total number of hours\n",
    "totalHoursTogether = timeSpentTogether.days * 24 + timeSpentTogether.seconds / 60 / 60\n",
    "print(totalHoursTogether)"
   ]
  },
  {
   "cell_type": "markdown",
   "metadata": {},
   "source": [
    "One quick note, you may notice how there are no parentheses in `timeSpentTogether.days` and `timeSpentTogether.seconds`. That is because these are called *attributes*. They are basically specific values associated with the datetime data type. You don't need to worry about those now, but if you were wondering sometimes additional functionality from modules comes in the form of data types with attributes for representing complex things."
   ]
  },
  {
   "cell_type": "markdown",
   "metadata": {},
   "source": [
    "## This is a lot, but now we're really starting to explore the power of computational thinking; specifically control of computation flow and organization of computation into blocks or abstractions.   \n",
    "![yoda](https://media1.tenor.com/images/99a1288a3057dc8e9ff7ebf5d46baee3/tenor.gif?itemid=15254127 \"Yoda\")"
   ]
  },
  {
   "cell_type": "markdown",
   "metadata": {},
   "source": []
  }
 ],
 "metadata": {
  "kernelspec": {
   "display_name": "Python 3 (ipykernel)",
   "language": "python",
   "name": "python3"
  },
  "language_info": {
   "codemirror_mode": {
    "name": "ipython",
    "version": 3
   },
   "file_extension": ".py",
   "mimetype": "text/x-python",
   "name": "python",
   "nbconvert_exporter": "python",
   "pygments_lexer": "ipython3",
   "version": "3.8.8"
  }
 },
 "nbformat": 4,
 "nbformat_minor": 4
}
