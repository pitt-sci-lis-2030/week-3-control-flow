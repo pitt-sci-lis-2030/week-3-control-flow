{
 "cells": [
  {
   "cell_type": "markdown",
   "metadata": {},
   "source": [
    "# Functions\n",
    "\n",
    "Suprise!  We've already seen functions!"
   ]
  },
  {
   "cell_type": "code",
   "execution_count": null,
   "metadata": {},
   "outputs": [],
   "source": [
    "print(\"hello\")"
   ]
  },
  {
   "cell_type": "code",
   "execution_count": null,
   "metadata": {},
   "outputs": [],
   "source": [
    "type(\"hello\")"
   ]
  },
  {
   "source": [
    "## So what is a function?\n",
    "\n",
    "* A function is defined in code and is only \"run\" when the function is called.\n",
    "* A function can be called from other code, allowing for non-sequential order of operations. \n",
    "\n",
    "## Why functions?\n",
    "\n",
    "* Creating a new function gives you an opportunity to name a group of statements, which makes your program easier to read, understand, and debug. \n",
    "* Functions can make a program smaller by eliminating repetitive code. Later, if you make a change, you only have to make it in one place.\n",
    "* Dividing a long program into functions allows you to debug the parts one at a time and then assemble them into a working whole.\n",
    "* Well-designed functions are often useful for many programs. Once you write and debug one, you can reuse it.\n",
    "\n",
    "Excerpt From: Charles R Severance. “Python for Everybody.” \n"
   ],
   "cell_type": "markdown",
   "metadata": {}
  },
  {
   "source": [
    "There are a lot of different functions built in to Python.  Many are very simple, for instance the functions below allow us to get the max and min character of a string.  By max, we mean the letter furthest into the Roman alphabet. "
   ],
   "cell_type": "markdown",
   "metadata": {}
  },
  {
   "cell_type": "code",
   "execution_count": null,
   "metadata": {},
   "outputs": [],
   "source": [
    "max(\"hello\")"
   ]
  },
  {
   "cell_type": "code",
   "execution_count": null,
   "metadata": {},
   "outputs": [],
   "source": [
    "min(\"hello\")"
   ]
  },
  {
   "cell_type": "code",
   "execution_count": null,
   "metadata": {},
   "outputs": [],
   "source": [
    "len(\"hello\")"
   ]
  },
  {
   "source": [
    "## Let's cover some concepts and vocabulary\n",
    "\n",
    "Before getting started, let's cover the ways we talk about a function.  There are some important key terms:\n",
    "\n",
    "* Function name - this is the name we are going to use to \"run\" that block of code we put in our function.  We want to be very careful about the words we use. These are words like \"print\" and \"type\" we've seen above.  Pick function names that make sense and that are easy to recall.\n",
    "\n",
    "* Paramaters - these are the values or variables that a function accepts. When calling a function, paramaters are \"passed\" using the () after the function name.  Above the string value, \"hello\" is the single parameter passed for all of the functions.  Functions can pass more than one parameter, these are seperated by ,\n",
    "\n",
    "* Return values - All functions \"do some work\" but some functions don't return anything.  Others have return values.  Print is an example of a function that does not return a new value.  We call these functions \"void\" functions, meaning their return type is void.  The other functions above have return values.  Type returns a variable type; max and min return a single character string; len returns an int."
   ],
   "cell_type": "markdown",
   "metadata": {}
  },
  {
   "source": [
    "## Example of working with variable parameters and storing return values in a variable"
   ],
   "cell_type": "markdown",
   "metadata": {}
  },
  {
   "cell_type": "code",
   "execution_count": null,
   "metadata": {},
   "outputs": [],
   "source": [
    "myName = \"Jake\"\n",
    "numberOfLettersInMyName = len(myName)\n",
    "print(numberOfLettersInMyName)"
   ]
  },
  {
   "cell_type": "markdown",
   "metadata": {},
   "source": [
    "## We can  define our own functions!\n",
    "\n",
    "Like with conditionals, we use some special keywords and some identation in our syntax"
   ]
  },
  {
   "cell_type": "code",
   "execution_count": null,
   "metadata": {},
   "outputs": [],
   "source": [
    "def printMyNameTag(name):\n",
    "    nameTag = \"Hello, my name is: \" + name\n",
    "    print(nameTag)"
   ]
  },
  {
   "source": [
    "Notice \"running\" that code doesn't produce a result.  That's becuase we have not actually \"run\" the code, we just \"defined\" the function.  "
   ],
   "cell_type": "markdown",
   "metadata": {}
  },
  {
   "cell_type": "code",
   "execution_count": null,
   "metadata": {},
   "outputs": [],
   "source": [
    "printMyNameTag(\"Jake\")"
   ]
  },
  {
   "cell_type": "code",
   "execution_count": null,
   "metadata": {},
   "outputs": [],
   "source": [
    "printMyNameTag(\"Matt\")"
   ]
  },
  {
   "source": [
    "There is an important point to be made here -- when defining a function we are not going to get errors unless they are sytax errors.  For instance, if we change variable name to a non-existant variable name, it will NOT generate an error. "
   ],
   "cell_type": "markdown",
   "metadata": {}
  },
  {
   "cell_type": "code",
   "execution_count": null,
   "metadata": {},
   "outputs": [],
   "source": [
    "def printMyNameTag(name):\n",
    "    nameTag = \"Hello, my name is: \" + noName\n",
    "    print(nameTag)"
   ]
  },
  {
   "cell_type": "code",
   "execution_count": null,
   "metadata": {},
   "outputs": [],
   "source": [
    "printMyNameTag(\"Jake\")"
   ]
  },
  {
   "source": [
    "## Returning a value"
   ],
   "cell_type": "markdown",
   "metadata": {}
  },
  {
   "cell_type": "code",
   "execution_count": null,
   "metadata": {},
   "outputs": [],
   "source": [
    "def createNameTag(name):\n",
    "    nameTag = \"Hello my name is: \" + name\n",
    "    return nameTag"
   ]
  },
  {
   "cell_type": "code",
   "execution_count": null,
   "metadata": {},
   "outputs": [],
   "source": [
    "jakeNameTag = createNameTag(\"Jake\")\n",
    "print(jakeNameTag)"
   ]
  },
  {
   "source": [
    "## Functions calling other functions\n",
    "\n",
    "The real power of functions is that they can play nice with each other.  They can reduce repetitive code and allow for abstracting away the details to make the code cleaner, easier to manage, and easier for others to understand."
   ],
   "cell_type": "markdown",
   "metadata": {}
  },
  {
   "cell_type": "code",
   "execution_count": null,
   "metadata": {},
   "outputs": [],
   "source": [
    "def printNameTags() :\n",
    "    print(createNameTag(\"Jake\"))\n",
    "    print(createNameTag(\"Matt\"))\n",
    "\n",
    "printNameTags()\n"
   ]
  },
  {
   "cell_type": "code",
   "execution_count": null,
   "metadata": {},
   "outputs": [],
   "source": [
    "def printNameTags(nameOne, nameTwo) :\n",
    "    print(createNameTag(nameOne))\n",
    "    print(createNameTag(nameTwo))\n",
    "\n",
    "printNameTags(\"Jake\", \"Matt\")"
   ]
  },
  {
   "source": [
    "There is power in the Python syntax to write very flexible functions.  For instance, we can use a * in the parameters to indicate an undefine number of parameters passed.  Combined with iteration inside the function (a little preview for next week), our printNameTags function can print as many names as we give it."
   ],
   "cell_type": "markdown",
   "metadata": {}
  },
  {
   "cell_type": "code",
   "execution_count": null,
   "metadata": {},
   "outputs": [],
   "source": [
    "def printNameTags(*names) :\n",
    "    for name in names :\n",
    "        print(createNameTag(name))\n",
    "\n",
    "printNameTags(\"Jake\", \"Matt\")"
   ]
  },
  {
   "cell_type": "code",
   "execution_count": null,
   "metadata": {},
   "outputs": [],
   "source": [
    "printNameTags(\"What?\", \"Who?\", \"Chika-chika Slim Shady\")"
   ]
  },
  {
   "source": [
    "![SLim Shady](https://media0.giphy.com/media/ZjYZnXeOYPHH2/giphy.gif?cid=ecf05e478y3xhx32j4zqq7qqwfe77dz6hk78ctvou5xgbtsl&rid=giphy.gif)"
   ],
   "cell_type": "markdown",
   "metadata": {}
  },
  {
   "cell_type": "markdown",
   "metadata": {},
   "source": [
    "## Modules (import and libraries)\n",
    "Recall one of the reasons we chose Python to learn is because the library support is extensive. Many of the libraries contain modules (akin to the books in a real library).  The book can contain functions and other statements specific to supporting a specific type of computation.  One of the most common modules is the math module."
   ]
  },
  {
   "cell_type": "code",
   "execution_count": null,
   "metadata": {},
   "outputs": [],
   "source": [
    "import math\n",
    "print(math)"
   ]
  },
  {
   "source": [
    "type(math)"
   ],
   "cell_type": "code",
   "metadata": {},
   "execution_count": null,
   "outputs": []
  },
  {
   "cell_type": "markdown",
   "metadata": {},
   "source": [
    "Modules contain functions.  If we know there names, we can ask ptyhon to tell us how to use them.  If we don't know their names, we can ask for help on the module itself."
   ]
  },
  {
   "cell_type": "code",
   "execution_count": null,
   "metadata": {},
   "outputs": [],
   "source": [
    "help(math.factorial)"
   ]
  },
  {
   "cell_type": "code",
   "execution_count": null,
   "metadata": {},
   "outputs": [],
   "source": [
    "help(math)"
   ]
  },
  {
   "cell_type": "code",
   "execution_count": null,
   "metadata": {},
   "outputs": [],
   "source": [
    "math.factorial(5)"
   ]
  },
  {
   "cell_type": "code",
   "execution_count": null,
   "metadata": {},
   "outputs": [],
   "source": [
    "math.sqrt(81)"
   ]
  },
  {
   "source": [
    "One really powerful module is the calendar module.  It makes working with and manipulating dates very efficent."
   ],
   "cell_type": "markdown",
   "metadata": {}
  },
  {
   "cell_type": "code",
   "execution_count": null,
   "metadata": {},
   "outputs": [],
   "source": [
    "import calendar\n",
    "calendar.isleap(2021)"
   ]
  },
  {
   "cell_type": "code",
   "execution_count": null,
   "metadata": {},
   "outputs": [],
   "source": [
    "calendar.prmonth(2021,1)"
   ]
  },
  {
   "cell_type": "code",
   "execution_count": null,
   "metadata": {},
   "outputs": [],
   "source": [
    "import datetime\n",
    "classStartTime = datetime.datetime(2021,2,3,12,10,0)\n",
    "classEndTime = datetime.datetime(2021,2,3,15,0,0)\n",
    "lengthOfClass = classEndTime - classStartTime\n",
    "print(lengthOfClass)"
   ]
  },
  {
   "cell_type": "code",
   "execution_count": null,
   "metadata": {},
   "outputs": [],
   "source": [
    "numberOfClasses = 15\n",
    "timeSpentTogether = lengthOfClass * numberOfClasses\n",
    "print(timeSpentTogether)"
   ]
  },
  {
   "cell_type": "code",
   "execution_count": null,
   "metadata": {},
   "outputs": [],
   "source": [
    "timeSpentTogether.hours"
   ]
  },
  {
   "cell_type": "code",
   "execution_count": null,
   "metadata": {},
   "outputs": [],
   "source": [
    "type(timeSpentTogether)"
   ]
  },
  {
   "cell_type": "markdown",
   "metadata": {},
   "source": [
    "Lets' see what our options are for working with timedelta: https://docs.python.org/2/library/datetime.html#datetime.timedelta"
   ]
  },
  {
   "cell_type": "code",
   "execution_count": null,
   "metadata": {},
   "outputs": [],
   "source": [
    "help(datetime.timedelta)"
   ]
  },
  {
   "cell_type": "code",
   "execution_count": null,
   "metadata": {},
   "outputs": [],
   "source": [
    "timeSpentTogether.days"
   ]
  },
  {
   "cell_type": "code",
   "execution_count": null,
   "metadata": {},
   "outputs": [],
   "source": [
    "timeSpentTogether.seconds"
   ]
  },
  {
   "cell_type": "code",
   "execution_count": null,
   "metadata": {},
   "outputs": [],
   "source": [
    "timeSpentTogether.seconds / 60 / 60"
   ]
  },
  {
   "cell_type": "code",
   "execution_count": null,
   "metadata": {},
   "outputs": [],
   "source": [
    "totalHoursTogether = timeSpentTogether.days * 24 + timeSpentTogether.seconds / 60 / 60\n",
    "print(totalHoursTogether)"
   ]
  },
  {
   "cell_type": "code",
   "execution_count": null,
   "metadata": {},
   "outputs": [],
   "source": []
  },
  {
   "cell_type": "markdown",
   "metadata": {},
   "source": [
    "## Pass by value and pass by reference\n",
    " Functions operate as \"pass by value\" for primative value types.  This is not always the case, as we'll see when we get to more complex values."
   ]
  },
  {
   "cell_type": "code",
   "execution_count": null,
   "metadata": {},
   "outputs": [],
   "source": [
    "def myMagicFunction(someInteger) :\n",
    "    someInteger = 5\n",
    "\n",
    "anInteger = 20\n",
    "myMagicFunction(anInteger)\n",
    "print(anInteger)"
   ]
  },
  {
   "cell_type": "code",
   "execution_count": null,
   "metadata": {},
   "outputs": [],
   "source": [
    "def myOtherMagicFunction(someList) :\n",
    "    someList[0] = 9\n",
    "\n",
    "aList = [1,2,3]\n",
    "myOtherMagicFunction(aList)\n",
    "print(aList)"
   ]
  },
  {
   "cell_type": "markdown",
   "metadata": {},
   "source": [
    "## This is a lot, but now we're really starting to explore the power of computational thinking; specifically control of computation flow and organization of computation into blocks or abstractions.   \n",
    "![yoda](https://media1.tenor.com/images/99a1288a3057dc8e9ff7ebf5d46baee3/tenor.gif?itemid=15254127 \"Yoda\")"
   ]
  },
  {
   "cell_type": "markdown",
   "metadata": {},
   "source": []
  }
 ],
 "metadata": {
  "kernelspec": {
   "display_name": "Python 3",
   "language": "python",
   "name": "python3"
  },
  "language_info": {
   "codemirror_mode": {
    "name": "ipython",
    "version": 3
   },
   "file_extension": ".py",
   "mimetype": "text/x-python",
   "name": "python",
   "nbconvert_exporter": "python",
   "pygments_lexer": "ipython3",
   "version": "3.8.2-final"
  }
 },
 "nbformat": 4,
 "nbformat_minor": 2
}